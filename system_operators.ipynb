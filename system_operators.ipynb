{
  "nbformat": 4,
  "nbformat_minor": 0,
  "metadata": {
    "colab": {
      "name": "system-operators.ipynb",
      "provenance": []
    },
    "kernelspec": {
      "name": "python3",
      "display_name": "Python 3"
    }
  },
  "cells": [
    {
      "cell_type": "markdown",
      "metadata": {
        "id": "V0eGLGundPoS",
        "colab_type": "text"
      },
      "source": [
        "# Colab ve diğer benzeri ortamlarda kullanılan sistem operatörleri kılavuzu"
      ]
    },
    {
      "cell_type": "markdown",
      "metadata": {
        "id": "FSxaypU3GS7B",
        "colab_type": "text"
      },
      "source": [
        "## git clone"
      ]
    },
    {
      "cell_type": "markdown",
      "metadata": {
        "id": "MGy6iXJJGUyM",
        "colab_type": "text"
      },
      "source": [
        "**İlgili repo'yu çekmemize** yarayan operatördür."
      ]
    },
    {
      "cell_type": "code",
      "metadata": {
        "id": "1WbDDrS-GbsH",
        "colab_type": "code",
        "colab": {}
      },
      "source": [
        "!git clone https://github.com/AlexeyAB/darknet/"
      ],
      "execution_count": null,
      "outputs": []
    },
    {
      "cell_type": "markdown",
      "metadata": {
        "id": "WyXwwd9GdY9G",
        "colab_type": "text"
      },
      "source": [
        "## ls (listing)"
      ]
    },
    {
      "cell_type": "markdown",
      "metadata": {
        "id": "rmU8O52Gdoty",
        "colab_type": "text"
      },
      "source": [
        "**O anki dizinde olan dosyaları listelemeye** yarayan operatördür.\n",
        "\n",
        "Bazı kullanımları:\n",
        "\n",
        "-a : tüm dosyaları getir\n",
        "\n",
        "-l : ayrıntılarıyla getir\n",
        "\n",
        "-t : oluşturulma zamanlarına göre getir\n",
        "\n",
        "-u : erişim zamanına göre sıralayıp getir\n",
        "\n",
        "-S : büyüklüklerine göre sıralayıp getir\n",
        "\n",
        "-r : normal halinden ters sırayla getir"
      ]
    },
    {
      "cell_type": "markdown",
      "metadata": {
        "id": "yQJUKPXBezwA",
        "colab_type": "text"
      },
      "source": [
        "`Örnek:`\n"
      ]
    },
    {
      "cell_type": "code",
      "metadata": {
        "id": "DHESpnQun-o-",
        "colab_type": "code",
        "colab": {
          "base_uri": "https://localhost:8080/",
          "height": 34
        },
        "outputId": "65b9ea5d-cedf-4c8f-e343-3fd0a7bcbb8f"
      },
      "source": [
        "!ls"
      ],
      "execution_count": 39,
      "outputs": [
        {
          "output_type": "stream",
          "text": [
            "a  bar\tfoo  sample_data\n"
          ],
          "name": "stdout"
        }
      ]
    },
    {
      "cell_type": "code",
      "metadata": {
        "id": "UXl-tkoqoAjZ",
        "colab_type": "code",
        "colab": {
          "base_uri": "https://localhost:8080/",
          "height": 102
        },
        "outputId": "48736a2c-ef16-4fdd-c789-60955a4822d2"
      },
      "source": [
        "!ls -l"
      ],
      "execution_count": 40,
      "outputs": [
        {
          "output_type": "stream",
          "text": [
            "total 16\n",
            "drwxr-xr-x 3 root root 4096 Aug 22 09:34 a\n",
            "drwxr-xr-x 2 root root 4096 Aug 22 09:33 bar\n",
            "drwxr-xr-x 2 root root 4096 Aug 22 09:32 foo\n",
            "drwxr-xr-x 1 root root 4096 Jul 30 16:30 sample_data\n"
          ],
          "name": "stdout"
        }
      ]
    },
    {
      "cell_type": "markdown",
      "metadata": {
        "id": "kENoJf81fF2b",
        "colab_type": "text"
      },
      "source": [
        "## mkdir (make directory)"
      ]
    },
    {
      "cell_type": "markdown",
      "metadata": {
        "id": "AIafwjHofLnN",
        "colab_type": "text"
      },
      "source": [
        "**Bir dizin oluşturmaya** yarayan operatördür.\n",
        "\n",
        "`Örnek:`\n",
        "\n"
      ]
    },
    {
      "cell_type": "code",
      "metadata": {
        "id": "E_5T3hOioGWX",
        "colab_type": "code",
        "colab": {
          "base_uri": "https://localhost:8080/",
          "height": 34
        },
        "outputId": "1ee9415d-daf6-4f3d-9ec0-7f7f68d71f31"
      },
      "source": [
        "!mkdir newdirectory\n",
        "!ls"
      ],
      "execution_count": 42,
      "outputs": [
        {
          "output_type": "stream",
          "text": [
            "a  bar\tfoo  newdirectory  sample_data\n"
          ],
          "name": "stdout"
        }
      ]
    },
    {
      "cell_type": "markdown",
      "metadata": {
        "id": "z6T8DgArmvLE",
        "colab_type": "text"
      },
      "source": [
        "## cd (change directory)"
      ]
    },
    {
      "cell_type": "markdown",
      "metadata": {
        "id": "zw8lYrOimw1K",
        "colab_type": "text"
      },
      "source": [
        "**Dizin değiştirmeye yarayan** operatördür."
      ]
    },
    {
      "cell_type": "markdown",
      "metadata": {
        "id": "wI4Tt7jbm5wF",
        "colab_type": "text"
      },
      "source": [
        "`Örnek:`"
      ]
    },
    {
      "cell_type": "code",
      "metadata": {
        "id": "hnmXHN7fm_iL",
        "colab_type": "code",
        "colab": {
          "base_uri": "https://localhost:8080/",
          "height": 34
        },
        "outputId": "8602ba6a-f0c4-47d9-c249-eb56e227393c"
      },
      "source": [
        "!ls"
      ],
      "execution_count": 32,
      "outputs": [
        {
          "output_type": "stream",
          "text": [
            "a  bar\tfoo  sample_data\n"
          ],
          "name": "stdout"
        }
      ]
    },
    {
      "cell_type": "markdown",
      "metadata": {
        "id": "6MdWlBJxnDl6",
        "colab_type": "text"
      },
      "source": [
        "Şu an **content** dizininin içindeyiz.**a** dizinine gidelim."
      ]
    },
    {
      "cell_type": "code",
      "metadata": {
        "id": "17wtS1n8nLCk",
        "colab_type": "code",
        "colab": {
          "base_uri": "https://localhost:8080/",
          "height": 51
        },
        "outputId": "a9b14b86-948c-451d-ab32-a76a513d35eb"
      },
      "source": [
        "%cd a\n",
        "!ls"
      ],
      "execution_count": 43,
      "outputs": [
        {
          "output_type": "stream",
          "text": [
            "/content/a\n",
            "b\n"
          ],
          "name": "stdout"
        }
      ]
    },
    {
      "cell_type": "markdown",
      "metadata": {
        "id": "0ebKlh1enXvK",
        "colab_type": "text"
      },
      "source": [
        "**a** dizinine gittik ve **a** dizininin içindekileri gördük"
      ]
    },
    {
      "cell_type": "markdown",
      "metadata": {
        "id": "SB1LTq9aoiK8",
        "colab_type": "text"
      },
      "source": [
        "Şu an **a** dizininin içindeyiz. **Geri gidelim**"
      ]
    },
    {
      "cell_type": "code",
      "metadata": {
        "id": "FrbdouqOooPJ",
        "colab_type": "code",
        "colab": {
          "base_uri": "https://localhost:8080/",
          "height": 51
        },
        "outputId": "da85e593-0f49-4b89-d4c6-a7f992c7dac3"
      },
      "source": [
        "%cd -\n",
        "!ls"
      ],
      "execution_count": 44,
      "outputs": [
        {
          "output_type": "stream",
          "text": [
            "/content\n",
            "a  bar\tfoo  newdirectory  sample_data\n"
          ],
          "name": "stdout"
        }
      ]
    },
    {
      "cell_type": "markdown",
      "metadata": {
        "id": "Qr3U7grDphr7",
        "colab_type": "text"
      },
      "source": [
        "## pwd (print working directory)"
      ]
    },
    {
      "cell_type": "markdown",
      "metadata": {
        "id": "70FdWELQppax",
        "colab_type": "text"
      },
      "source": [
        "Şu an **hangi dizinde çalıştığımızı** gösteren operatör\n",
        "\n",
        "`Örnek:`"
      ]
    },
    {
      "cell_type": "code",
      "metadata": {
        "id": "MbvPoCd5pndz",
        "colab_type": "code",
        "colab": {
          "base_uri": "https://localhost:8080/",
          "height": 34
        },
        "outputId": "ff625318-aa69-4426-c455-c96cbfcb4eda"
      },
      "source": [
        "!pwd"
      ],
      "execution_count": 54,
      "outputs": [
        {
          "output_type": "stream",
          "text": [
            "/content\n"
          ],
          "name": "stdout"
        }
      ]
    },
    {
      "cell_type": "markdown",
      "metadata": {
        "id": "nNbL20_HpwRa",
        "colab_type": "text"
      },
      "source": [
        "Şu an **content** dizisinin içinde çalışıyoruz."
      ]
    },
    {
      "cell_type": "code",
      "metadata": {
        "id": "HKC0mySdpuht",
        "colab_type": "code",
        "colab": {
          "base_uri": "https://localhost:8080/",
          "height": 51
        },
        "outputId": "0f35d2ba-f98b-4efb-df13-2a3df90a612d"
      },
      "source": [
        "%cd a\n",
        "!pwd"
      ],
      "execution_count": 55,
      "outputs": [
        {
          "output_type": "stream",
          "text": [
            "/content/a\n",
            "/content/a\n"
          ],
          "name": "stdout"
        }
      ]
    },
    {
      "cell_type": "markdown",
      "metadata": {
        "id": "eE-Cg_nFqkXf",
        "colab_type": "text"
      },
      "source": [
        "## rm (remove)"
      ]
    },
    {
      "cell_type": "markdown",
      "metadata": {
        "id": "m6E4L1Jhqmt1",
        "colab_type": "text"
      },
      "source": [
        "**Belirtilen dosyayı silmeye** yarayan operatör"
      ]
    },
    {
      "cell_type": "markdown",
      "metadata": {
        "id": "YIH12-H9wo1U",
        "colab_type": "text"
      },
      "source": [
        "**b** dizininde **1.txt** adlı dosyayı silelim"
      ]
    },
    {
      "cell_type": "code",
      "metadata": {
        "id": "dBb8fVKSwiwS",
        "colab_type": "code",
        "colab": {
          "base_uri": "https://localhost:8080/",
          "height": 68
        },
        "outputId": "f55e6c91-12e4-4a54-e2d6-c0fcb884ca74"
      },
      "source": [
        "%cd a/b/\n",
        "!ls\n",
        "%rm 1.txt\n",
        "!ls"
      ],
      "execution_count": 64,
      "outputs": [
        {
          "output_type": "stream",
          "text": [
            "/content/a/b\n",
            "1.txt  2.txt\n",
            "2.txt\n"
          ],
          "name": "stdout"
        }
      ]
    },
    {
      "cell_type": "markdown",
      "metadata": {
        "id": "lBZZgeqrxVRx",
        "colab_type": "text"
      },
      "source": [
        "Şimdi de dizin silelim. Bunun için **rmdir** komutu kullanılır."
      ]
    },
    {
      "cell_type": "code",
      "metadata": {
        "id": "oSnPN0THqlVl",
        "colab_type": "code",
        "colab": {
          "base_uri": "https://localhost:8080/",
          "height": 68
        },
        "outputId": "6ec450da-6366-4dff-8021-38593bfc05d4"
      },
      "source": [
        "%cd /content/\n",
        "!ls\n",
        "%rmdir foo\n",
        "!ls"
      ],
      "execution_count": 65,
      "outputs": [
        {
          "output_type": "stream",
          "text": [
            "/content\n",
            "a  foo\tnewdirectory  sample_data\n",
            "a  newdirectory  sample_data\n"
          ],
          "name": "stdout"
        }
      ]
    },
    {
      "cell_type": "markdown",
      "metadata": {
        "id": "Nq8aZ8FZ8hJO",
        "colab_type": "text"
      },
      "source": [
        "## sed (stream editor)"
      ]
    },
    {
      "cell_type": "markdown",
      "metadata": {
        "id": "A0QETwoC8nyf",
        "colab_type": "text"
      },
      "source": [
        "Sed dosyayı bir karakter akışı olarak düzenlemek anlamına gelen bir **akış düzenleyicidir**."
      ]
    },
    {
      "cell_type": "code",
      "metadata": {
        "id": "yUwoq_Tf9hx2",
        "colab_type": "code",
        "colab": {}
      },
      "source": [
        "!sed -i 's/OPENCV=0/OPENCV=1/g' Makefile"
      ],
      "execution_count": null,
      "outputs": []
    },
    {
      "cell_type": "markdown",
      "metadata": {
        "id": "lGmlC-S19Kr2",
        "colab_type": "text"
      },
      "source": [
        "## apt (advanced package tool)"
      ]
    },
    {
      "cell_type": "markdown",
      "metadata": {
        "id": "H1WvTFuB9WCO",
        "colab_type": "text"
      },
      "source": [
        "**Paketleme sistemiyle etkileşimde olmak** için kullanılan operatördür.\n",
        "\n",
        "Bunu yönetmek için zaten **dpkg** komutları var. Ancak **apt**, ambalajı kullanmanın daha kolay bir yoludur. Yeni paketleri **bulmak ve kurmak, paketleri yükseltmek, paketleri kaldırmak** vb. için kullanabilirsiniz."
      ]
    },
    {
      "cell_type": "code",
      "metadata": {
        "id": "F2eswpjo9P_9",
        "colab_type": "code",
        "colab": {}
      },
      "source": [
        "!apt update\n",
        "!apt-get install libopencv-dev"
      ],
      "execution_count": null,
      "outputs": []
    },
    {
      "cell_type": "markdown",
      "metadata": {
        "id": "MUWzMeDDDSaT",
        "colab_type": "text"
      },
      "source": [
        "## make"
      ]
    },
    {
      "cell_type": "markdown",
      "metadata": {
        "id": "B6yLBdJ_DUPV",
        "colab_type": "text"
      },
      "source": [
        "Unix benzeri işletim sistemlerinde make, kaynak koddan program grupları (ve diğer dosya türleri) **oluşturmak** ve sürdürmek için kullanılan bir yardımcı operatördür."
      ]
    },
    {
      "cell_type": "code",
      "metadata": {
        "id": "PaH7aylyDTI7",
        "colab_type": "code",
        "colab": {}
      },
      "source": [
        "!make &> compile.log"
      ],
      "execution_count": null,
      "outputs": []
    },
    {
      "cell_type": "markdown",
      "metadata": {
        "id": "nIqECml9DrDY",
        "colab_type": "text"
      },
      "source": [
        "## wget (World Wide Web and get)"
      ]
    },
    {
      "cell_type": "markdown",
      "metadata": {
        "id": "LuuJcM7fD0Qh",
        "colab_type": "text"
      },
      "source": [
        "Wget komutu, dosyaları İnternet'ten indirmek için bir komut satırı yardımcı programıdır."
      ]
    },
    {
      "cell_type": "code",
      "metadata": {
        "id": "c0SuvlADDsdv",
        "colab_type": "code",
        "colab": {}
      },
      "source": [
        "!wget https://pjreddie.com/media/files/yolov3.weights"
      ],
      "execution_count": null,
      "outputs": []
    },
    {
      "cell_type": "markdown",
      "metadata": {
        "id": "tlPyKISZFTMa",
        "colab_type": "text"
      },
      "source": [
        "## du (disk usage)"
      ]
    },
    {
      "cell_type": "markdown",
      "metadata": {
        "id": "JCG9bipmFWFw",
        "colab_type": "text"
      },
      "source": [
        "Disk kullanımını gösteren operatördür.\n",
        "\n",
        "**du -h** şeklindeki kullanımı **Human Readable Format** şeklindedir."
      ]
    },
    {
      "cell_type": "code",
      "metadata": {
        "id": "AqONPJJAFVBC",
        "colab_type": "code",
        "colab": {}
      },
      "source": [
        "!du -h output.avi"
      ],
      "execution_count": null,
      "outputs": []
    }
  ]
}